{
 "cells": [
  {
   "cell_type": "markdown",
   "metadata": {},
   "source": [
    "## Text Classification with Keras"
   ]
  },
  {
   "cell_type": "code",
   "execution_count": 1,
   "metadata": {},
   "outputs": [],
   "source": [
    "import warnings\n",
    "\n",
    "warnings.filterwarnings(\"ignore\")\n",
    "\n",
    "import random\n",
    "import pathlib\n",
    "import numpy as np\n",
    "import pandas as pd\n",
    "import matplotlib.pyplot as plt\n",
    "import seaborn as sns\n",
    "import tensorflow as tf\n",
    "import kr_helper_funcs as kru\n",
    "from cl_options import TrainingArgsParser"
   ]
  },
  {
   "cell_type": "code",
   "execution_count": 2,
   "metadata": {},
   "outputs": [
    {
     "name": "stdout",
     "output_type": "stream",
     "text": [
      "Seeing with 3441704331\n",
      "Using Tensorflow 2.13.0\n",
      "MODEL_SAVE_PATH -> /home/mjbhobe/code/git-projects/dl-keras/model_states/kr_text_classification.pkl\n"
     ]
    }
   ],
   "source": [
    "SEED = kru.seed_all()\n",
    "print(f\"Seeing with {SEED}\")\n",
    "print(f\"Using Tensorflow {tf.__version__}\")\n",
    "\n",
    "MODEL_SAVE_PATH = pathlib.Path(os.getcwd()).parent / \"model_states\" / \"kr_text_classification.pkl\"\n",
    "print(f\"MODEL_SAVE_PATH -> {MODEL_SAVE_PATH}\")"
   ]
  },
  {
   "cell_type": "code",
   "execution_count": 3,
   "metadata": {},
   "outputs": [
    {
     "name": "stdout",
     "output_type": "stream",
     "text": [
      "sentence    Wow... Loved this place.\n",
      "label                              1\n",
      "source                          yelp\n",
      "Name: 0, dtype: object\n"
     ]
    }
   ],
   "source": [
    "DATASET_BASE_PATH = pathlib.Path(os.getcwd()).parent / \"tf2\" / \"datasets\" / \"sentiment_labelled_sentences\"\n",
    "\n",
    "dataset_paths = {\n",
    "    \"yelp\": DATASET_BASE_PATH / \"yelp_labelled.txt\",\n",
    "    \"amazon\": DATASET_BASE_PATH / \"amazon_cells_labelled.txt\",\n",
    "    \"imdb\": DATASET_BASE_PATH / \"imdb_labelled.txt\",\n",
    "}\n",
    "\n",
    "df_list = []\n",
    "for source, filepath in dataset_paths.items():\n",
    "    df = pd.read_csv(str(filepath), names=[\"sentence\", \"label\"], sep=\"\\t\")\n",
    "    df[\"source\"] = source\n",
    "    df_list.append(df)\n",
    "\n",
    "df = pd.concat(df_list)\n",
    "print(df.iloc[0])"
   ]
  },
  {
   "cell_type": "code",
   "execution_count": 4,
   "metadata": {},
   "outputs": [
    {
     "data": {
      "text/plain": [
       "{'John': 0, 'likes': 5, 'ice': 4, 'cream': 2, 'hates': 3, 'chocolate': 1}"
      ]
     },
     "execution_count": 4,
     "metadata": {},
     "output_type": "execute_result"
    }
   ],
   "source": [
    "# let's see how sklearn's CountVectorizer helps us build a vocab\n",
    "from sklearn.feature_extraction.text import CountVectorizer\n",
    "\n",
    "sentences = [\"John likes ice cream!\", \"John hates chocolate.\"]\n",
    "vectorizer = CountVectorizer(min_df=0.0, lowercase=False)\n",
    "vectorizer.fit(sentences)\n",
    "vectorizer.vocabulary_"
   ]
  },
  {
   "cell_type": "code",
   "execution_count": 5,
   "metadata": {},
   "outputs": [
    {
     "data": {
      "text/plain": [
       "array([[1, 0, 1, 0, 1, 1],\n",
       "       [1, 1, 0, 1, 0, 0]])"
      ]
     },
     "execution_count": 5,
     "metadata": {},
     "output_type": "execute_result"
    }
   ],
   "source": [
    "# this is also called bag-of-words technique\n",
    "vectorizer.transform(sentences).toarray()"
   ]
  },
  {
   "cell_type": "markdown",
   "metadata": {},
   "source": [
    "Now let's do this on our corpus"
   ]
  },
  {
   "cell_type": "code",
   "execution_count": 6,
   "metadata": {},
   "outputs": [
    {
     "data": {
      "text/plain": [
       "(array(['Wow... Loved this place.', 'Crust is not good.', 'Not tasty and the texture was just nasty.', 'Stopped by during the late May bank holiday off Rick Steve recommendation and loved it.', 'The selection on the menu was great and so were the prices.'], dtype=object),\n",
       " array([1, 0, 0, 1, 1]))"
      ]
     },
     "execution_count": 6,
     "metadata": {},
     "output_type": "execute_result"
    }
   ],
   "source": [
    "sentences = df[\"sentence\"].values\n",
    "labels = df[\"label\"].values\n",
    "sentences[:5], labels[:5]"
   ]
  },
  {
   "cell_type": "markdown",
   "metadata": {},
   "source": [
    "Create the train & test datasets for model training"
   ]
  },
  {
   "cell_type": "code",
   "execution_count": 7,
   "metadata": {},
   "outputs": [
    {
     "name": "stdout",
     "output_type": "stream",
     "text": [
      "X_train.shape: (2061,) - y_train.shape: (2061,) - X_test.shape: (687,) - y_test.shape: (687,)\n"
     ]
    }
   ],
   "source": [
    "from sklearn.model_selection import train_test_split\n",
    "\n",
    "X_train, X_test, y_train, y_test = train_test_split(\n",
    "    sentences,\n",
    "    labels,\n",
    "    test_size=0.25,\n",
    "    random_state=SEED,\n",
    ")\n",
    "print(\n",
    "    f\"X_train.shape: {X_train.shape} - y_train.shape: {y_train.shape} - \"\n",
    "    f\"X_test.shape: {X_test.shape} - y_test.shape: {y_test.shape}\"\n",
    ")"
   ]
  },
  {
   "cell_type": "code",
   "execution_count": 22,
   "metadata": {},
   "outputs": [
    {
     "data": {
      "text/plain": [
       "(<1x4245 sparse matrix of type '<class 'numpy.int64'>'\n",
       " \twith 5 stored elements in Compressed Sparse Row format>,\n",
       " <1x4245 sparse matrix of type '<class 'numpy.int64'>'\n",
       " \twith 9 stored elements in Compressed Sparse Row format>)"
      ]
     },
     "execution_count": 22,
     "metadata": {},
     "output_type": "execute_result"
    }
   ],
   "source": [
    "# and we will vectorize the data\n",
    "from sklearn.feature_extraction.text import CountVectorizer\n",
    "\n",
    "vectorizer = CountVectorizer()\n",
    "vectorizer.fit(X_train)\n",
    "\n",
    "X_train = vectorizer.transform(X_train)\n",
    "X_test = vectorizer.transform(X_test)\n",
    "print(\n",
    "    f\"X_train.shape: {X_train.shape} - y_train.shape: {y_train.shape} - \"\n",
    "    f\"X_test.shape: {X_test.shape} - y_test.shape: {y_test.shape}\"\n",
    ")"
   ]
  },
  {
   "cell_type": "markdown",
   "metadata": {},
   "source": [
    "### Base `LogisticRegression` model"
   ]
  },
  {
   "cell_type": "code",
   "execution_count": 30,
   "metadata": {},
   "outputs": [
    {
     "name": "stdout",
     "output_type": "stream",
     "text": [
      "LogisticRegression (base model) acc: 0.801\n"
     ]
    }
   ],
   "source": [
    "# base classification model\n",
    "from sklearn.linear_model import LogisticRegression\n",
    "\n",
    "classifier = LogisticRegression()\n",
    "classifier.fit(X_train, y_train)\n",
    "score = classifier.score(X_test, y_test)\n",
    "print(f\"LogisticRegression (base model) acc: {score:.3f}\")"
   ]
  },
  {
   "cell_type": "markdown",
   "metadata": {},
   "source": [
    "### Building Deep Learning model with Keras"
   ]
  },
  {
   "cell_type": "code",
   "execution_count": 31,
   "metadata": {},
   "outputs": [],
   "source": [
    "from tensorflow import keras\n",
    "from tensorflow.keras.models import Sequential\n",
    "from tensorflow.keras.layers import Dense"
   ]
  },
  {
   "cell_type": "code",
   "execution_count": 34,
   "metadata": {},
   "outputs": [
    {
     "name": "stdout",
     "output_type": "stream",
     "text": [
      "Model: \"sequential_1\"\n",
      "_________________________________________________________________\n",
      " Layer (type)                Output Shape              Param #   \n",
      "=================================================================\n",
      " dense_2 (Dense)             (None, 10)                42460     \n",
      "                                                                 \n",
      " dense_3 (Dense)             (None, 1)                 11        \n",
      "                                                                 \n",
      "=================================================================\n",
      "Total params: 42471 (165.90 KB)\n",
      "Trainable params: 42471 (165.90 KB)\n",
      "Non-trainable params: 0 (0.00 Byte)\n",
      "_________________________________________________________________\n",
      "None\n"
     ]
    }
   ],
   "source": [
    "input_dim = X_train.shape[1]\n",
    "\n",
    "model = Sequential(\n",
    "    [\n",
    "        Dense(10, activation=\"relu\", input_dim=input_dim),\n",
    "        Dense(1, activation=\"sigmoid\"),\n",
    "    ]\n",
    ")\n",
    "model.compile(\n",
    "    loss=\"binary_crossentropy\",\n",
    "    optimizer=\"adam\",\n",
    "    metrics=[\"accuracy\"],\n",
    ")\n",
    "print(model.summary())"
   ]
  },
  {
   "cell_type": "code",
   "execution_count": 37,
   "metadata": {},
   "outputs": [
    {
     "name": "stdout",
     "output_type": "stream",
     "text": [
      "Epoch 1/100\n",
      "207/207 - 1s - loss: 0.0109 - accuracy: 0.9981 - val_loss: 0.6057 - val_accuracy: 0.8006 - 1s/epoch - 7ms/step\n",
      "Epoch 2/100\n",
      "207/207 - 1s - loss: 0.0097 - accuracy: 0.9981 - val_loss: 0.6140 - val_accuracy: 0.7991 - 845ms/epoch - 4ms/step\n",
      "Epoch 3/100\n",
      "207/207 - 1s - loss: 0.0087 - accuracy: 0.9981 - val_loss: 0.6232 - val_accuracy: 0.7962 - 850ms/epoch - 4ms/step\n",
      "Epoch 4/100\n",
      "207/207 - 1s - loss: 0.0080 - accuracy: 0.9981 - val_loss: 0.6550 - val_accuracy: 0.7948 - 817ms/epoch - 4ms/step\n",
      "Epoch 5/100\n",
      "207/207 - 1s - loss: 0.0071 - accuracy: 0.9981 - val_loss: 0.6816 - val_accuracy: 0.7948 - 823ms/epoch - 4ms/step\n",
      "Epoch 6/100\n",
      "207/207 - 1s - loss: 0.0065 - accuracy: 0.9981 - val_loss: 0.6921 - val_accuracy: 0.7948 - 832ms/epoch - 4ms/step\n",
      "Epoch 7/100\n",
      "207/207 - 1s - loss: 0.0059 - accuracy: 0.9981 - val_loss: 0.6871 - val_accuracy: 0.7977 - 852ms/epoch - 4ms/step\n",
      "Epoch 8/100\n",
      "207/207 - 1s - loss: 0.0054 - accuracy: 0.9981 - val_loss: 0.7066 - val_accuracy: 0.7977 - 832ms/epoch - 4ms/step\n",
      "Epoch 9/100\n",
      "207/207 - 1s - loss: 0.0049 - accuracy: 0.9981 - val_loss: 0.7263 - val_accuracy: 0.7991 - 906ms/epoch - 4ms/step\n",
      "Epoch 10/100\n",
      "207/207 - 1s - loss: 0.0045 - accuracy: 0.9981 - val_loss: 0.7356 - val_accuracy: 0.7962 - 1s/epoch - 5ms/step\n",
      "Epoch 11/100\n",
      "207/207 - 1s - loss: 0.0042 - accuracy: 0.9981 - val_loss: 0.7522 - val_accuracy: 0.7977 - 991ms/epoch - 5ms/step\n",
      "Epoch 12/100\n",
      "207/207 - 1s - loss: 0.0039 - accuracy: 0.9981 - val_loss: 0.7688 - val_accuracy: 0.7991 - 932ms/epoch - 5ms/step\n",
      "Epoch 13/100\n",
      "207/207 - 1s - loss: 0.0036 - accuracy: 0.9981 - val_loss: 0.7875 - val_accuracy: 0.8006 - 952ms/epoch - 5ms/step\n",
      "Epoch 14/100\n",
      "207/207 - 1s - loss: 0.0034 - accuracy: 0.9981 - val_loss: 0.8031 - val_accuracy: 0.7991 - 840ms/epoch - 4ms/step\n",
      "Epoch 15/100\n",
      "207/207 - 1s - loss: 0.0032 - accuracy: 0.9981 - val_loss: 0.8193 - val_accuracy: 0.7962 - 895ms/epoch - 4ms/step\n",
      "Epoch 16/100\n",
      "207/207 - 1s - loss: 0.0030 - accuracy: 0.9981 - val_loss: 0.8352 - val_accuracy: 0.7933 - 846ms/epoch - 4ms/step\n",
      "Epoch 17/100\n",
      "207/207 - 1s - loss: 0.0028 - accuracy: 0.9981 - val_loss: 0.8444 - val_accuracy: 0.7962 - 819ms/epoch - 4ms/step\n",
      "Epoch 18/100\n",
      "207/207 - 1s - loss: 0.0027 - accuracy: 0.9981 - val_loss: 0.8673 - val_accuracy: 0.7918 - 839ms/epoch - 4ms/step\n",
      "Epoch 19/100\n",
      "207/207 - 1s - loss: 0.0025 - accuracy: 0.9981 - val_loss: 0.8836 - val_accuracy: 0.7933 - 835ms/epoch - 4ms/step\n",
      "Epoch 20/100\n",
      "207/207 - 1s - loss: 0.0024 - accuracy: 0.9981 - val_loss: 0.8974 - val_accuracy: 0.7948 - 819ms/epoch - 4ms/step\n",
      "Epoch 21/100\n",
      "207/207 - 1s - loss: 0.0023 - accuracy: 0.9981 - val_loss: 0.9073 - val_accuracy: 0.7948 - 818ms/epoch - 4ms/step\n",
      "Epoch 22/100\n",
      "207/207 - 1s - loss: 0.0022 - accuracy: 0.9981 - val_loss: 0.9306 - val_accuracy: 0.7904 - 825ms/epoch - 4ms/step\n",
      "Epoch 23/100\n",
      "207/207 - 1s - loss: 0.0021 - accuracy: 0.9981 - val_loss: 0.9440 - val_accuracy: 0.7948 - 836ms/epoch - 4ms/step\n",
      "Epoch 24/100\n",
      "207/207 - 1s - loss: 0.0020 - accuracy: 0.9981 - val_loss: 0.9636 - val_accuracy: 0.7933 - 843ms/epoch - 4ms/step\n",
      "Epoch 25/100\n",
      "207/207 - 1s - loss: 0.0020 - accuracy: 0.9981 - val_loss: 0.9759 - val_accuracy: 0.7933 - 841ms/epoch - 4ms/step\n",
      "Epoch 26/100\n",
      "207/207 - 1s - loss: 0.0019 - accuracy: 0.9981 - val_loss: 0.9907 - val_accuracy: 0.7948 - 832ms/epoch - 4ms/step\n",
      "Epoch 27/100\n",
      "207/207 - 1s - loss: 0.0018 - accuracy: 0.9981 - val_loss: 1.0046 - val_accuracy: 0.7918 - 818ms/epoch - 4ms/step\n",
      "Epoch 28/100\n",
      "207/207 - 1s - loss: 0.0018 - accuracy: 0.9981 - val_loss: 1.0224 - val_accuracy: 0.7933 - 781ms/epoch - 4ms/step\n",
      "Epoch 29/100\n",
      "207/207 - 1s - loss: 0.0017 - accuracy: 0.9981 - val_loss: 1.0373 - val_accuracy: 0.7918 - 769ms/epoch - 4ms/step\n",
      "Epoch 30/100\n",
      "207/207 - 1s - loss: 0.0016 - accuracy: 0.9985 - val_loss: 1.0520 - val_accuracy: 0.7933 - 799ms/epoch - 4ms/step\n",
      "Epoch 31/100\n",
      "207/207 - 1s - loss: 0.0016 - accuracy: 1.0000 - val_loss: 1.0717 - val_accuracy: 0.7933 - 769ms/epoch - 4ms/step\n",
      "Epoch 32/100\n",
      "207/207 - 1s - loss: 0.0015 - accuracy: 1.0000 - val_loss: 1.0783 - val_accuracy: 0.7904 - 937ms/epoch - 5ms/step\n",
      "Epoch 33/100\n",
      "207/207 - 1s - loss: 0.0015 - accuracy: 1.0000 - val_loss: 1.0899 - val_accuracy: 0.7889 - 944ms/epoch - 5ms/step\n",
      "Epoch 34/100\n",
      "207/207 - 1s - loss: 0.0014 - accuracy: 1.0000 - val_loss: 1.1122 - val_accuracy: 0.7933 - 809ms/epoch - 4ms/step\n",
      "Epoch 35/100\n",
      "207/207 - 1s - loss: 0.0014 - accuracy: 1.0000 - val_loss: 1.1258 - val_accuracy: 0.7904 - 826ms/epoch - 4ms/step\n",
      "Epoch 36/100\n",
      "207/207 - 1s - loss: 0.0014 - accuracy: 1.0000 - val_loss: 1.1449 - val_accuracy: 0.7933 - 831ms/epoch - 4ms/step\n",
      "Epoch 37/100\n",
      "207/207 - 1s - loss: 0.0013 - accuracy: 1.0000 - val_loss: 1.1581 - val_accuracy: 0.7918 - 820ms/epoch - 4ms/step\n",
      "Epoch 38/100\n",
      "207/207 - 1s - loss: 0.0013 - accuracy: 1.0000 - val_loss: 1.1720 - val_accuracy: 0.7904 - 822ms/epoch - 4ms/step\n",
      "Epoch 39/100\n",
      "207/207 - 1s - loss: 0.0013 - accuracy: 1.0000 - val_loss: 1.1831 - val_accuracy: 0.7904 - 780ms/epoch - 4ms/step\n",
      "Epoch 40/100\n",
      "207/207 - 1s - loss: 0.0012 - accuracy: 1.0000 - val_loss: 1.2085 - val_accuracy: 0.7918 - 792ms/epoch - 4ms/step\n",
      "Epoch 41/100\n",
      "207/207 - 1s - loss: 0.0012 - accuracy: 1.0000 - val_loss: 1.2215 - val_accuracy: 0.7948 - 778ms/epoch - 4ms/step\n",
      "Epoch 42/100\n",
      "207/207 - 1s - loss: 0.0012 - accuracy: 1.0000 - val_loss: 1.2355 - val_accuracy: 0.7933 - 976ms/epoch - 5ms/step\n",
      "Epoch 43/100\n",
      "207/207 - 1s - loss: 0.0011 - accuracy: 1.0000 - val_loss: 1.2585 - val_accuracy: 0.7948 - 796ms/epoch - 4ms/step\n",
      "Epoch 44/100\n",
      "207/207 - 1s - loss: 0.0011 - accuracy: 1.0000 - val_loss: 1.2717 - val_accuracy: 0.7948 - 786ms/epoch - 4ms/step\n",
      "Epoch 45/100\n",
      "207/207 - 1s - loss: 0.0011 - accuracy: 1.0000 - val_loss: 1.2819 - val_accuracy: 0.7933 - 787ms/epoch - 4ms/step\n",
      "Epoch 46/100\n",
      "207/207 - 1s - loss: 0.0011 - accuracy: 1.0000 - val_loss: 1.2982 - val_accuracy: 0.7948 - 780ms/epoch - 4ms/step\n",
      "Epoch 47/100\n",
      "207/207 - 1s - loss: 0.0010 - accuracy: 1.0000 - val_loss: 1.3160 - val_accuracy: 0.7948 - 789ms/epoch - 4ms/step\n",
      "Epoch 48/100\n",
      "207/207 - 1s - loss: 0.0010 - accuracy: 1.0000 - val_loss: 1.3304 - val_accuracy: 0.7977 - 779ms/epoch - 4ms/step\n",
      "Epoch 49/100\n",
      "207/207 - 1s - loss: 9.7660e-04 - accuracy: 1.0000 - val_loss: 1.3595 - val_accuracy: 0.7918 - 991ms/epoch - 5ms/step\n",
      "Epoch 50/100\n",
      "207/207 - 1s - loss: 9.5458e-04 - accuracy: 1.0000 - val_loss: 1.3632 - val_accuracy: 0.7918 - 981ms/epoch - 5ms/step\n",
      "Epoch 51/100\n",
      "207/207 - 1s - loss: 9.3147e-04 - accuracy: 1.0000 - val_loss: 1.3818 - val_accuracy: 0.7918 - 927ms/epoch - 4ms/step\n",
      "Epoch 52/100\n",
      "207/207 - 1s - loss: 9.0971e-04 - accuracy: 1.0000 - val_loss: 1.3987 - val_accuracy: 0.7918 - 846ms/epoch - 4ms/step\n",
      "Epoch 53/100\n",
      "207/207 - 1s - loss: 8.8950e-04 - accuracy: 1.0000 - val_loss: 1.4103 - val_accuracy: 0.7933 - 821ms/epoch - 4ms/step\n",
      "Epoch 54/100\n",
      "207/207 - 1s - loss: 8.6884e-04 - accuracy: 1.0000 - val_loss: 1.4241 - val_accuracy: 0.7918 - 803ms/epoch - 4ms/step\n",
      "Epoch 55/100\n",
      "207/207 - 1s - loss: 8.4860e-04 - accuracy: 1.0000 - val_loss: 1.4437 - val_accuracy: 0.7904 - 809ms/epoch - 4ms/step\n",
      "Epoch 56/100\n",
      "207/207 - 1s - loss: 8.2979e-04 - accuracy: 1.0000 - val_loss: 1.4501 - val_accuracy: 0.7889 - 809ms/epoch - 4ms/step\n",
      "Epoch 57/100\n",
      "207/207 - 1s - loss: 8.1080e-04 - accuracy: 1.0000 - val_loss: 1.4673 - val_accuracy: 0.7889 - 802ms/epoch - 4ms/step\n",
      "Epoch 58/100\n",
      "207/207 - 1s - loss: 7.9266e-04 - accuracy: 1.0000 - val_loss: 1.4856 - val_accuracy: 0.7904 - 788ms/epoch - 4ms/step\n",
      "Epoch 59/100\n",
      "207/207 - 1s - loss: 7.7715e-04 - accuracy: 1.0000 - val_loss: 1.4991 - val_accuracy: 0.7904 - 785ms/epoch - 4ms/step\n",
      "Epoch 60/100\n",
      "207/207 - 1s - loss: 7.5814e-04 - accuracy: 1.0000 - val_loss: 1.5133 - val_accuracy: 0.7889 - 793ms/epoch - 4ms/step\n",
      "Epoch 61/100\n",
      "207/207 - 1s - loss: 7.4112e-04 - accuracy: 1.0000 - val_loss: 1.5262 - val_accuracy: 0.7904 - 786ms/epoch - 4ms/step\n",
      "Epoch 62/100\n",
      "207/207 - 1s - loss: 7.2442e-04 - accuracy: 1.0000 - val_loss: 1.5479 - val_accuracy: 0.7904 - 790ms/epoch - 4ms/step\n",
      "Epoch 63/100\n",
      "207/207 - 1s - loss: 7.0861e-04 - accuracy: 1.0000 - val_loss: 1.5586 - val_accuracy: 0.7904 - 774ms/epoch - 4ms/step\n",
      "Epoch 64/100\n",
      "207/207 - 1s - loss: 6.9346e-04 - accuracy: 1.0000 - val_loss: 1.5756 - val_accuracy: 0.7904 - 937ms/epoch - 5ms/step\n",
      "Epoch 65/100\n",
      "207/207 - 1s - loss: 6.7844e-04 - accuracy: 1.0000 - val_loss: 1.5909 - val_accuracy: 0.7904 - 793ms/epoch - 4ms/step\n",
      "Epoch 66/100\n",
      "207/207 - 1s - loss: 6.6132e-04 - accuracy: 1.0000 - val_loss: 1.6108 - val_accuracy: 0.7889 - 796ms/epoch - 4ms/step\n",
      "Epoch 67/100\n",
      "207/207 - 1s - loss: 6.5372e-04 - accuracy: 1.0000 - val_loss: 1.6274 - val_accuracy: 0.7875 - 790ms/epoch - 4ms/step\n",
      "Epoch 68/100\n",
      "207/207 - 1s - loss: 6.3202e-04 - accuracy: 1.0000 - val_loss: 1.6411 - val_accuracy: 0.7860 - 801ms/epoch - 4ms/step\n",
      "Epoch 69/100\n",
      "207/207 - 1s - loss: 6.1787e-04 - accuracy: 1.0000 - val_loss: 1.6491 - val_accuracy: 0.7875 - 791ms/epoch - 4ms/step\n",
      "Epoch 70/100\n",
      "207/207 - 1s - loss: 6.0354e-04 - accuracy: 1.0000 - val_loss: 1.6674 - val_accuracy: 0.7889 - 798ms/epoch - 4ms/step\n",
      "Epoch 71/100\n",
      "207/207 - 1s - loss: 5.9029e-04 - accuracy: 1.0000 - val_loss: 1.6907 - val_accuracy: 0.7831 - 849ms/epoch - 4ms/step\n",
      "Epoch 72/100\n",
      "207/207 - 1s - loss: 5.7729e-04 - accuracy: 1.0000 - val_loss: 1.7000 - val_accuracy: 0.7846 - 848ms/epoch - 4ms/step\n",
      "Epoch 73/100\n",
      "207/207 - 1s - loss: 5.6312e-04 - accuracy: 1.0000 - val_loss: 1.7125 - val_accuracy: 0.7860 - 840ms/epoch - 4ms/step\n",
      "Epoch 74/100\n",
      "207/207 - 1s - loss: 5.5055e-04 - accuracy: 1.0000 - val_loss: 1.7292 - val_accuracy: 0.7875 - 848ms/epoch - 4ms/step\n",
      "Epoch 75/100\n",
      "207/207 - 1s - loss: 5.4690e-04 - accuracy: 1.0000 - val_loss: 1.7488 - val_accuracy: 0.7831 - 781ms/epoch - 4ms/step\n",
      "Epoch 76/100\n",
      "207/207 - 1s - loss: 5.2679e-04 - accuracy: 1.0000 - val_loss: 1.7565 - val_accuracy: 0.7875 - 780ms/epoch - 4ms/step\n",
      "Epoch 77/100\n",
      "207/207 - 1s - loss: 5.1491e-04 - accuracy: 1.0000 - val_loss: 1.7655 - val_accuracy: 0.7875 - 791ms/epoch - 4ms/step\n",
      "Epoch 78/100\n",
      "207/207 - 1s - loss: 5.0289e-04 - accuracy: 1.0000 - val_loss: 1.7871 - val_accuracy: 0.7860 - 798ms/epoch - 4ms/step\n",
      "Epoch 79/100\n",
      "207/207 - 1s - loss: 4.9200e-04 - accuracy: 1.0000 - val_loss: 1.8104 - val_accuracy: 0.7831 - 801ms/epoch - 4ms/step\n",
      "Epoch 80/100\n",
      "207/207 - 1s - loss: 4.8014e-04 - accuracy: 1.0000 - val_loss: 1.8275 - val_accuracy: 0.7831 - 791ms/epoch - 4ms/step\n",
      "Epoch 81/100\n",
      "207/207 - 1s - loss: 4.6926e-04 - accuracy: 1.0000 - val_loss: 1.8377 - val_accuracy: 0.7846 - 794ms/epoch - 4ms/step\n",
      "Epoch 82/100\n",
      "207/207 - 1s - loss: 4.5891e-04 - accuracy: 1.0000 - val_loss: 1.8564 - val_accuracy: 0.7846 - 789ms/epoch - 4ms/step\n",
      "Epoch 83/100\n",
      "207/207 - 1s - loss: 4.4870e-04 - accuracy: 1.0000 - val_loss: 1.8898 - val_accuracy: 0.7846 - 792ms/epoch - 4ms/step\n",
      "Epoch 84/100\n",
      "207/207 - 1s - loss: 4.3797e-04 - accuracy: 1.0000 - val_loss: 1.8844 - val_accuracy: 0.7831 - 786ms/epoch - 4ms/step\n",
      "Epoch 85/100\n",
      "207/207 - 1s - loss: 4.2786e-04 - accuracy: 1.0000 - val_loss: 1.9000 - val_accuracy: 0.7846 - 792ms/epoch - 4ms/step\n",
      "Epoch 86/100\n",
      "207/207 - 1s - loss: 4.1797e-04 - accuracy: 1.0000 - val_loss: 1.9128 - val_accuracy: 0.7875 - 787ms/epoch - 4ms/step\n",
      "Epoch 87/100\n",
      "207/207 - 1s - loss: 4.0827e-04 - accuracy: 1.0000 - val_loss: 1.9237 - val_accuracy: 0.7860 - 784ms/epoch - 4ms/step\n",
      "Epoch 88/100\n",
      "207/207 - 1s - loss: 3.9907e-04 - accuracy: 1.0000 - val_loss: 1.9482 - val_accuracy: 0.7860 - 792ms/epoch - 4ms/step\n",
      "Epoch 89/100\n",
      "207/207 - 1s - loss: 3.9021e-04 - accuracy: 1.0000 - val_loss: 1.9576 - val_accuracy: 0.7875 - 784ms/epoch - 4ms/step\n",
      "Epoch 90/100\n",
      "207/207 - 1s - loss: 3.8109e-04 - accuracy: 1.0000 - val_loss: 1.9776 - val_accuracy: 0.7875 - 794ms/epoch - 4ms/step\n",
      "Epoch 91/100\n",
      "207/207 - 1s - loss: 3.7231e-04 - accuracy: 1.0000 - val_loss: 1.9817 - val_accuracy: 0.7860 - 803ms/epoch - 4ms/step\n",
      "Epoch 92/100\n",
      "207/207 - 1s - loss: 3.6342e-04 - accuracy: 1.0000 - val_loss: 1.9959 - val_accuracy: 0.7875 - 795ms/epoch - 4ms/step\n",
      "Epoch 93/100\n",
      "207/207 - 1s - loss: 3.5491e-04 - accuracy: 1.0000 - val_loss: 2.0090 - val_accuracy: 0.7875 - 802ms/epoch - 4ms/step\n",
      "Epoch 94/100\n",
      "207/207 - 1s - loss: 3.4690e-04 - accuracy: 1.0000 - val_loss: 2.0270 - val_accuracy: 0.7875 - 985ms/epoch - 5ms/step\n",
      "Epoch 95/100\n",
      "207/207 - 1s - loss: 3.3920e-04 - accuracy: 1.0000 - val_loss: 2.0423 - val_accuracy: 0.7875 - 845ms/epoch - 4ms/step\n",
      "Epoch 96/100\n",
      "207/207 - 1s - loss: 3.3097e-04 - accuracy: 1.0000 - val_loss: 2.0527 - val_accuracy: 0.7875 - 793ms/epoch - 4ms/step\n",
      "Epoch 97/100\n",
      "207/207 - 1s - loss: 3.2335e-04 - accuracy: 1.0000 - val_loss: 2.0734 - val_accuracy: 0.7889 - 790ms/epoch - 4ms/step\n",
      "Epoch 98/100\n",
      "207/207 - 1s - loss: 3.1690e-04 - accuracy: 1.0000 - val_loss: 2.0786 - val_accuracy: 0.7875 - 787ms/epoch - 4ms/step\n",
      "Epoch 99/100\n",
      "207/207 - 1s - loss: 3.0883e-04 - accuracy: 1.0000 - val_loss: 2.0948 - val_accuracy: 0.7875 - 799ms/epoch - 4ms/step\n",
      "Epoch 100/100\n",
      "207/207 - 1s - loss: 3.0181e-04 - accuracy: 1.0000 - val_loss: 2.1056 - val_accuracy: 0.7875 - 800ms/epoch - 4ms/step\n"
     ]
    }
   ],
   "source": [
    "hist = model.fit(\n",
    "    X_train,\n",
    "    y_train,\n",
    "    epochs=100,\n",
    "    batch_size=10,\n",
    "    validation_data=(X_test, y_test),\n",
    "    verbose=2,\n",
    ")"
   ]
  },
  {
   "cell_type": "code",
   "execution_count": 38,
   "metadata": {},
   "outputs": [
    {
     "name": "stdout",
     "output_type": "stream",
     "text": [
      "['loss', 'accuracy']\n"
     ]
    },
    {
     "data": {
      "image/png": "[encoded data removed]",
      "text/plain": [
       "<Figure size 1600x500 with 2 Axes>"
      ]
     },
     "metadata": {},
     "output_type": "display_data"
    }
   ],
   "source": [
    "kru.plot_metrics(hist.history, title=\"Model Performance\")"
   ]
  },
  {
   "cell_type": "code",
   "execution_count": 39,
   "metadata": {},
   "outputs": [
    {
     "name": "stdout",
     "output_type": "stream",
     "text": [
      "Train dataset -> loss: 0.000 - acc: 1.000\n",
      "Test dataset -> loss: 2.106 - acc: 0.787\n"
     ]
    }
   ],
   "source": [
    "loss, acc = model.evaluate(X_train, y_train, verbose=False)\n",
    "print(f\"Train dataset -> loss: {loss:.3f} - acc: {acc:.3f}\")\n",
    "loss, acc = model.evaluate(X_test, y_test, verbose=False)\n",
    "print(f\"Test dataset -> loss: {loss:.3f} - acc: {acc:.3f}\")"
   ]
  },
  {
   "cell_type": "code",
   "execution_count": null,
   "metadata": {},
   "outputs": [],
   "source": []
  }
 ],
 "metadata": {
  "kernelspec": {
   "display_name": "py311",
   "language": "python",
   "name": "python3"
  },
  "language_info": {
   "codemirror_mode": {
    "name": "ipython",
    "version": 3
   },
   "file_extension": ".py",
   "mimetype": "text/x-python",
   "name": "python",
   "nbconvert_exporter": "python",
   "pygments_lexer": "ipython3",
   "version": "3.11.4"
  },
  "orig_nbformat": 4
 },
 "nbformat": 4,
 "nbformat_minor": 2
}
