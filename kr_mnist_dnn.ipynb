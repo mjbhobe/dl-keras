{
 "cells": [
  {
   "cell_type": "code",
   "execution_count": 1,
   "id": "cc948446",
   "metadata": {},
   "outputs": [
    {
     "name": "stdout",
     "output_type": "stream",
     "text": [
      "Using Tensorflow 2.8.0\n"
     ]
    }
   ],
   "source": [
    "import sys, os, random\n",
    "import numpy as np\n",
    "import matplotlib.pyplot as plt\n",
    "\n",
    "os.environ['TF_CPP_MIN_LOG_LEVEL'] = '2'    # filter out Tensorflow INFO & WARNINGS messages\n",
    "\n",
    "import tensorflow as tf\n",
    "\n",
    "SEED = 41\n",
    "random.seed(SEED)\n",
    "np.random.seed(SEED)\n",
    "tf.random.set_seed(SEED)\n",
    "print(f\"Using Tensorflow {tf.__version__}\")"
   ]
  },
  {
   "cell_type": "code",
   "execution_count": 2,
   "id": "4a3a634e",
   "metadata": {},
   "outputs": [
    {
     "name": "stdout",
     "output_type": "stream",
     "text": [
      "train_images.shape: (60000, 28, 28) - train_labels.shape: (60000,)\n",
      "test_images.shape: (10000, 28, 28) - test_labels.shape: (10000,)\n"
     ]
    }
   ],
   "source": [
    "from tensorflow.keras.datasets import mnist\n",
    "(train_images, train_labels), (test_images, test_labels) = mnist.load_data()\n",
    "print(f\"train_images.shape: {train_images.shape} - train_labels.shape: {train_labels.shape}\\n\"\n",
    "      f\"test_images.shape: {test_images.shape} - test_labels.shape: {test_labels.shape}\")"
   ]
  },
  {
   "cell_type": "code",
   "execution_count": 3,
   "id": "cac58c65",
   "metadata": {},
   "outputs": [
    {
     "name": "stdout",
     "output_type": "stream",
     "text": [
      "train_images.shape: (60000, 28, 28) - train_labels.shape: (60000,)\n",
      "val_images.shape: (8000, 28, 28) - val_labels.shape: (8000,)\n",
      "test_images.shape: (2000, 28, 28) - test_labels.shape: (2000,)\n"
     ]
    }
   ],
   "source": [
    "from sklearn.model_selection import train_test_split\n",
    "\n",
    "val_images, test_images, val_labels, test_labels = \\\n",
    "    train_test_split(test_images, test_labels, test_size=0.20, random_state=SEED)\n",
    "print(f\"train_images.shape: {train_images.shape} - train_labels.shape: {train_labels.shape}\\n\"\n",
    "      f\"val_images.shape: {val_images.shape} - val_labels.shape: {val_labels.shape}\\n\"\n",
    "      f\"test_images.shape: {test_images.shape} - test_labels.shape: {test_labels.shape}\")"
   ]
  },
  {
   "cell_type": "code",
   "execution_count": 4,
   "id": "7e91517d",
   "metadata": {},
   "outputs": [
    {
     "name": "stdout",
     "output_type": "stream",
     "text": [
      "train_images.shape: (60000, 784) - train_labels.shape: (60000,)\n",
      "val_images.shape: (8000, 784) - val_labels.shape: (8000,)\n",
      "test_images.shape: (2000, 784) - test_labels.shape: (2000,)\n"
     ]
    }
   ],
   "source": [
    "# preprocess the images data\n",
    "inp_shape = train_images.shape[1] * train_images.shape[2]\n",
    "train_images = train_images.reshape((train_images.shape[0], inp_shape))\n",
    "train_images = train_images.astype(\"float32\") / 255.0\n",
    "val_images = val_images.reshape((val_images.shape[0], inp_shape))\n",
    "val_images = val_images.astype(\"float32\") / 255.0\n",
    "test_images = test_images.reshape((test_images.shape[0], inp_shape))\n",
    "test_images = test_images.astype(\"float32\") / 255.0\n",
    "print(f\"train_images.shape: {train_images.shape} - train_labels.shape: {train_labels.shape}\\n\"\n",
    "      f\"val_images.shape: {val_images.shape} - val_labels.shape: {val_labels.shape}\\n\"\n",
    "      f\"test_images.shape: {test_images.shape} - test_labels.shape: {test_labels.shape}\")"
   ]
  },
  {
   "cell_type": "code",
   "execution_count": 5,
   "id": "d9642f02",
   "metadata": {},
   "outputs": [],
   "source": [
    "from tensorflow.keras.models import Sequential\n",
    "from tensorflow.keras.layers import Dense, Dropout, Activation"
   ]
  },
  {
   "cell_type": "code",
   "execution_count": 6,
   "id": "fa5c480a",
   "metadata": {},
   "outputs": [],
   "source": [
    "# Hyper parameters\n",
    "EPOCHS = 25\n",
    "BATCH_SIZE = 128\n",
    "DROPOUT = 0.45"
   ]
  },
  {
   "cell_type": "code",
   "execution_count": 7,
   "id": "c9ba1642",
   "metadata": {},
   "outputs": [
    {
     "name": "stdout",
     "output_type": "stream",
     "text": [
      "Model: \"sequential\"\n",
      "_________________________________________________________________\n",
      " Layer (type)                Output Shape              Param #   \n",
      "=================================================================\n",
      " dense (Dense)               (None, 256)               200960    \n",
      "                                                                 \n",
      " activation (Activation)     (None, 256)               0         \n",
      "                                                                 \n",
      " dropout (Dropout)           (None, 256)               0         \n",
      "                                                                 \n",
      " dense_1 (Dense)             (None, 256)               65792     \n",
      "                                                                 \n",
      " activation_1 (Activation)   (None, 256)               0         \n",
      "                                                                 \n",
      " dropout_1 (Dropout)         (None, 256)               0         \n",
      "                                                                 \n",
      " dense_2 (Dense)             (None, 10)                2570      \n",
      "                                                                 \n",
      " activation_2 (Activation)   (None, 10)                0         \n",
      "                                                                 \n",
      "=================================================================\n",
      "Total params: 269,322\n",
      "Trainable params: 269,322\n",
      "Non-trainable params: 0\n",
      "_________________________________________________________________\n",
      "None\n"
     ]
    }
   ],
   "source": [
    "model = Sequential([\n",
    "    Dense(256, input_shape=(inp_shape,)),\n",
    "    Activation('relu'),\n",
    "    Dropout(rate=DROPOUT),\n",
    "    Dense(256),\n",
    "    Activation('relu'),\n",
    "    Dropout(rate=DROPOUT),\n",
    "    Dense(10, input_shape=(inp_shape,)),\n",
    "    Activation('softmax'),\n",
    "])\n",
    "model.compile(loss='sparse_categorical_crossentropy',\n",
    "              optimizer='adam', metrics=['acc'])\n",
    "print(model.summary())"
   ]
  },
  {
   "cell_type": "code",
   "execution_count": 8,
   "id": "4b6f3fe8",
   "metadata": {},
   "outputs": [
    {
     "name": "stdout",
     "output_type": "stream",
     "text": [
      "Epoch 1/25\n",
      "469/469 [==============================] - 7s 10ms/step - loss: 0.4263 - acc: 0.8691 - val_loss: 0.1467 - val_acc: 0.9551\n",
      "Epoch 2/25\n",
      "469/469 [==============================] - 4s 9ms/step - loss: 0.1949 - acc: 0.9416 - val_loss: 0.1102 - val_acc: 0.9674\n",
      "Epoch 3/25\n",
      "469/469 [==============================] - 4s 9ms/step - loss: 0.1513 - acc: 0.9547 - val_loss: 0.0946 - val_acc: 0.9709\n",
      "Epoch 4/25\n",
      "469/469 [==============================] - 4s 8ms/step - loss: 0.1304 - acc: 0.9614 - val_loss: 0.0843 - val_acc: 0.9745\n",
      "Epoch 5/25\n",
      "469/469 [==============================] - 4s 8ms/step - loss: 0.1129 - acc: 0.9654 - val_loss: 0.0785 - val_acc: 0.9760\n",
      "Epoch 6/25\n",
      "469/469 [==============================] - 4s 8ms/step - loss: 0.1030 - acc: 0.9683 - val_loss: 0.0683 - val_acc: 0.9791\n",
      "Epoch 7/25\n",
      "469/469 [==============================] - 4s 8ms/step - loss: 0.0940 - acc: 0.9712 - val_loss: 0.0710 - val_acc: 0.9783\n",
      "Epoch 8/25\n",
      "469/469 [==============================] - 4s 8ms/step - loss: 0.0887 - acc: 0.9725 - val_loss: 0.0629 - val_acc: 0.9812\n",
      "Epoch 9/25\n",
      "469/469 [==============================] - 4s 8ms/step - loss: 0.0803 - acc: 0.9751 - val_loss: 0.0635 - val_acc: 0.9819\n",
      "Epoch 10/25\n",
      "469/469 [==============================] - 4s 8ms/step - loss: 0.0786 - acc: 0.9749 - val_loss: 0.0661 - val_acc: 0.9808\n",
      "Epoch 11/25\n",
      "469/469 [==============================] - 4s 8ms/step - loss: 0.0734 - acc: 0.9770 - val_loss: 0.0662 - val_acc: 0.9819\n",
      "Epoch 12/25\n",
      "469/469 [==============================] - 4s 8ms/step - loss: 0.0695 - acc: 0.9779 - val_loss: 0.0640 - val_acc: 0.9814\n",
      "Epoch 13/25\n",
      "469/469 [==============================] - 4s 9ms/step - loss: 0.0682 - acc: 0.9782 - val_loss: 0.0645 - val_acc: 0.9819\n",
      "Epoch 14/25\n",
      "469/469 [==============================] - 4s 8ms/step - loss: 0.0642 - acc: 0.9796 - val_loss: 0.0650 - val_acc: 0.9827\n",
      "Epoch 15/25\n",
      "469/469 [==============================] - 4s 8ms/step - loss: 0.0631 - acc: 0.9803 - val_loss: 0.0624 - val_acc: 0.9814\n",
      "Epoch 16/25\n",
      "469/469 [==============================] - 4s 8ms/step - loss: 0.0602 - acc: 0.9806 - val_loss: 0.0686 - val_acc: 0.9804\n",
      "Epoch 17/25\n",
      "469/469 [==============================] - 4s 8ms/step - loss: 0.0589 - acc: 0.9813 - val_loss: 0.0647 - val_acc: 0.9831\n",
      "Epoch 18/25\n",
      "469/469 [==============================] - 4s 8ms/step - loss: 0.0544 - acc: 0.9822 - val_loss: 0.0609 - val_acc: 0.9830\n",
      "Epoch 19/25\n",
      "469/469 [==============================] - 4s 8ms/step - loss: 0.0557 - acc: 0.9812 - val_loss: 0.0656 - val_acc: 0.9830\n",
      "Epoch 20/25\n",
      "469/469 [==============================] - 4s 8ms/step - loss: 0.0518 - acc: 0.9836 - val_loss: 0.0611 - val_acc: 0.9837\n",
      "Epoch 21/25\n",
      "469/469 [==============================] - 4s 9ms/step - loss: 0.0527 - acc: 0.9828 - val_loss: 0.0644 - val_acc: 0.9840\n",
      "Epoch 22/25\n",
      "469/469 [==============================] - 4s 8ms/step - loss: 0.0489 - acc: 0.9839 - val_loss: 0.0632 - val_acc: 0.9839\n",
      "Epoch 23/25\n",
      "469/469 [==============================] - 4s 8ms/step - loss: 0.0498 - acc: 0.9840 - val_loss: 0.0677 - val_acc: 0.9822\n",
      "Epoch 24/25\n",
      "469/469 [==============================] - 4s 8ms/step - loss: 0.0489 - acc: 0.9838 - val_loss: 0.0624 - val_acc: 0.9844\n",
      "Epoch 25/25\n",
      "469/469 [==============================] - 5s 10ms/step - loss: 0.0470 - acc: 0.9849 - val_loss: 0.0615 - val_acc: 0.9843\n"
     ]
    }
   ],
   "source": [
    "hist = model.fit(train_images, train_labels, validation_data=(val_images, val_labels), \n",
    "    epochs=EPOCHS, batch_size=BATCH_SIZE)"
   ]
  },
  {
   "cell_type": "code",
   "execution_count": 9,
   "id": "783bdcad",
   "metadata": {},
   "outputs": [
    {
     "data": {
      "image/png": "[encoded data removed]",
      "text/plain": [
       "<Figure size 1152x360 with 2 Axes>"
      ]
     },
     "metadata": {},
     "output_type": "display_data"
    }
   ],
   "source": [
    "import kr_helper_funcs as kru\n",
    "\n",
    "kru.show_plots(hist.history, metric=\"acc\", plot_title=\"Keras Model Performance\")"
   ]
  },
  {
   "cell_type": "code",
   "execution_count": 10,
   "id": "e4fd92bc",
   "metadata": {},
   "outputs": [
    {
     "name": "stdout",
     "output_type": "stream",
     "text": [
      "Evaluating model\n",
      "1875/1875 [==============================] - 11s 6ms/step - loss: 0.0088 - acc: 0.9977\n",
      "  Training  -> loss: 0.009 - 0.998\n",
      "250/250 [==============================] - 1s 5ms/step - loss: 0.0615 - acc: 0.9843\n",
      "  Cross-val -> loss: 0.061 - 0.984\n",
      "63/63 [==============================] - 0s 4ms/step - loss: 0.0681 - acc: 0.9815\n",
      "  Testing   -> loss: 0.068 - 0.982\n"
     ]
    }
   ],
   "source": [
    "print(\"Evaluating model\")\n",
    "loss, acc = model.evaluate(train_images, train_labels)\n",
    "print(f\"  Training  -> loss: {loss:.3f} - {acc:.3f}\")\n",
    "loss, acc = model.evaluate(val_images, val_labels)\n",
    "print(f\"  Cross-val -> loss: {loss:.3f} - {acc:.3f}\")\n",
    "loss, acc = model.evaluate(test_images, test_labels)\n",
    "print(f\"  Testing   -> loss: {loss:.3f} - {acc:.3f}\")"
   ]
  },
  {
   "cell_type": "code",
   "execution_count": 44,
   "id": "d1e05021",
   "metadata": {},
   "outputs": [
    {
     "data": {
      "text/plain": [
       "(array([4, 3, 0, 5, 7, 0, 2, 2, 5, 5, 7, 4, 9, 8, 4, 1, 0, 1, 3, 3],\n",
       "       dtype=uint8),\n",
       " array([2, 3, 0, 5, 7, 0, 2, 2, 5, 5, 7, 4, 9, 8, 4, 1, 0, 1, 3, 3]))"
      ]
     },
     "execution_count": 44,
     "metadata": {},
     "output_type": "execute_result"
    }
   ],
   "source": [
    "# run predictions on test data\n",
    "test_labels_pred_proba = model.predict(test_images)\n",
    "test_labels_pred = np.argmax(test_labels_pred_proba, axis=1)\n",
    "test_labels[:20], test_labels_pred[:20]"
   ]
  },
  {
   "cell_type": "markdown",
   "id": "0a76aee9",
   "metadata": {},
   "source": [
    "## Adding L2 Regularization to the model"
   ]
  },
  {
   "cell_type": "code",
   "execution_count": 45,
   "id": "55d83c6d",
   "metadata": {},
   "outputs": [],
   "source": [
    "from tensorflow.keras.regularizers import l2\n",
    "\n",
    "L2_REG_FACTOR = 1e-5\n",
    "l2_reg = l2(L2_REG_FACTOR)"
   ]
  },
  {
   "cell_type": "code",
   "execution_count": 46,
   "id": "0c7f40b3",
   "metadata": {},
   "outputs": [
    {
     "name": "stdout",
     "output_type": "stream",
     "text": [
      "Model: \"sequential_6\"\n",
      "_________________________________________________________________\n",
      " Layer (type)                Output Shape              Param #   \n",
      "=================================================================\n",
      " dense_18 (Dense)            (None, 256)               200960    \n",
      "                                                                 \n",
      " activation_18 (Activation)  (None, 256)               0         \n",
      "                                                                 \n",
      " dropout_12 (Dropout)        (None, 256)               0         \n",
      "                                                                 \n",
      " dense_19 (Dense)            (None, 256)               65792     \n",
      "                                                                 \n",
      " activation_19 (Activation)  (None, 256)               0         \n",
      "                                                                 \n",
      " dropout_13 (Dropout)        (None, 256)               0         \n",
      "                                                                 \n",
      " dense_20 (Dense)            (None, 10)                2570      \n",
      "                                                                 \n",
      " activation_20 (Activation)  (None, 10)                0         \n",
      "                                                                 \n",
      "=================================================================\n",
      "Total params: 269,322\n",
      "Trainable params: 269,322\n",
      "Non-trainable params: 0\n",
      "_________________________________________________________________\n",
      "None\n"
     ]
    }
   ],
   "source": [
    "model2 = Sequential([\n",
    "    Dense(256, kernel_regularizer=l2_reg, input_shape=(inp_shape,)),\n",
    "    Activation('relu'),\n",
    "    Dropout(rate=DROPOUT),\n",
    "    Dense(256, kernel_regularizer=l2_reg),\n",
    "    Activation('relu'),\n",
    "    Dropout(rate=DROPOUT),\n",
    "    Dense(10, input_shape=(inp_shape,)),\n",
    "    Activation('softmax'),\n",
    "])\n",
    "model2.compile(loss='sparse_categorical_crossentropy',\n",
    "              optimizer='adam', metrics=['acc'])\n",
    "print(model2.summary())"
   ]
  },
  {
   "cell_type": "code",
   "execution_count": 47,
   "id": "11de3a0c",
   "metadata": {},
   "outputs": [
    {
     "name": "stdout",
     "output_type": "stream",
     "text": [
      "Epoch 1/25\n",
      "469/469 [==============================] - 5s 9ms/step - loss: 0.4272 - acc: 0.8719 - val_loss: 0.1546 - val_acc: 0.9549\n",
      "Epoch 2/25\n",
      "469/469 [==============================] - 4s 9ms/step - loss: 0.1999 - acc: 0.9424 - val_loss: 0.1161 - val_acc: 0.9638\n",
      "Epoch 3/25\n",
      "469/469 [==============================] - 4s 9ms/step - loss: 0.1609 - acc: 0.9550 - val_loss: 0.0977 - val_acc: 0.9716\n",
      "Epoch 4/25\n",
      "469/469 [==============================] - 4s 9ms/step - loss: 0.1383 - acc: 0.9614 - val_loss: 0.0923 - val_acc: 0.9728\n",
      "Epoch 5/25\n",
      "469/469 [==============================] - 4s 9ms/step - loss: 0.1254 - acc: 0.9643 - val_loss: 0.0883 - val_acc: 0.9755\n",
      "Epoch 6/25\n",
      "469/469 [==============================] - 4s 9ms/step - loss: 0.1134 - acc: 0.9690 - val_loss: 0.0800 - val_acc: 0.9793\n",
      "Epoch 7/25\n",
      "469/469 [==============================] - 5s 10ms/step - loss: 0.1084 - acc: 0.9702 - val_loss: 0.0798 - val_acc: 0.9795\n",
      "Epoch 8/25\n",
      "469/469 [==============================] - 4s 9ms/step - loss: 0.1032 - acc: 0.9711 - val_loss: 0.0768 - val_acc: 0.9808\n",
      "Epoch 9/25\n",
      "469/469 [==============================] - 4s 9ms/step - loss: 0.0985 - acc: 0.9733 - val_loss: 0.0754 - val_acc: 0.9811\n",
      "Epoch 10/25\n",
      "469/469 [==============================] - 5s 11ms/step - loss: 0.0924 - acc: 0.9754 - val_loss: 0.0819 - val_acc: 0.9793\n",
      "Epoch 11/25\n",
      "469/469 [==============================] - 5s 11ms/step - loss: 0.0909 - acc: 0.9755 - val_loss: 0.0827 - val_acc: 0.9804\n",
      "Epoch 12/25\n",
      "469/469 [==============================] - 4s 9ms/step - loss: 0.0846 - acc: 0.9775 - val_loss: 0.0791 - val_acc: 0.9803\n",
      "Epoch 13/25\n",
      "469/469 [==============================] - 4s 9ms/step - loss: 0.0855 - acc: 0.9772 - val_loss: 0.0790 - val_acc: 0.9808\n",
      "Epoch 14/25\n",
      "469/469 [==============================] - 5s 10ms/step - loss: 0.0829 - acc: 0.9781 - val_loss: 0.0748 - val_acc: 0.9826\n",
      "Epoch 15/25\n",
      "469/469 [==============================] - 4s 10ms/step - loss: 0.0838 - acc: 0.9786 - val_loss: 0.0778 - val_acc: 0.9821\n",
      "Epoch 16/25\n",
      "469/469 [==============================] - 4s 8ms/step - loss: 0.0784 - acc: 0.9804 - val_loss: 0.0812 - val_acc: 0.9816\n",
      "Epoch 17/25\n",
      "469/469 [==============================] - 4s 9ms/step - loss: 0.0780 - acc: 0.9802 - val_loss: 0.0751 - val_acc: 0.9835\n",
      "Epoch 18/25\n",
      "469/469 [==============================] - 4s 9ms/step - loss: 0.0780 - acc: 0.9812 - val_loss: 0.0778 - val_acc: 0.9822\n",
      "Epoch 19/25\n",
      "469/469 [==============================] - 4s 9ms/step - loss: 0.0776 - acc: 0.9808 - val_loss: 0.0762 - val_acc: 0.9826\n",
      "Epoch 20/25\n",
      "469/469 [==============================] - 4s 9ms/step - loss: 0.0738 - acc: 0.9826 - val_loss: 0.0792 - val_acc: 0.9831\n",
      "Epoch 21/25\n",
      "469/469 [==============================] - 4s 9ms/step - loss: 0.0771 - acc: 0.9815 - val_loss: 0.0785 - val_acc: 0.9835\n",
      "Epoch 22/25\n",
      "469/469 [==============================] - 5s 10ms/step - loss: 0.0736 - acc: 0.9819 - val_loss: 0.0811 - val_acc: 0.9835\n",
      "Epoch 23/25\n",
      "469/469 [==============================] - 4s 9ms/step - loss: 0.0745 - acc: 0.9820 - val_loss: 0.0808 - val_acc: 0.9827\n",
      "Epoch 24/25\n",
      "469/469 [==============================] - 5s 10ms/step - loss: 0.0729 - acc: 0.9829 - val_loss: 0.0773 - val_acc: 0.9834\n",
      "Epoch 25/25\n",
      "469/469 [==============================] - 5s 10ms/step - loss: 0.0717 - acc: 0.9833 - val_loss: 0.0804 - val_acc: 0.9833\n"
     ]
    }
   ],
   "source": [
    "hist2 = model2.fit(train_images, train_labels, validation_data=(val_images, val_labels), \n",
    "    epochs=EPOCHS, batch_size=BATCH_SIZE)"
   ]
  },
  {
   "cell_type": "code",
   "execution_count": 48,
   "id": "62d8df77",
   "metadata": {},
   "outputs": [
    {
     "data": {
      "image/png": "[encoded data removed]",
      "text/plain": [
       "<Figure size 1152x360 with 2 Axes>"
      ]
     },
     "metadata": {},
     "output_type": "display_data"
    }
   ],
   "source": [
    "import kr_helper_funcs as kru\n",
    "\n",
    "kru.show_plots(hist2.history, metric=\"acc\", plot_title=\"Keras Model with L2 Reg Performance\")"
   ]
  },
  {
   "cell_type": "code",
   "execution_count": 49,
   "id": "50464db8",
   "metadata": {},
   "outputs": [
    {
     "name": "stdout",
     "output_type": "stream",
     "text": [
      "Evaluating model\n",
      "1875/1875 [==============================] - 6s 3ms/step - loss: 0.0304 - acc: 0.9974\n",
      "  Training  -> loss: 0.030 - 0.997\n",
      "250/250 [==============================] - 1s 3ms/step - loss: 0.0804 - acc: 0.9833\n",
      "  Cross-val -> loss: 0.080 - 0.983\n",
      "63/63 [==============================] - 0s 2ms/step - loss: 0.0802 - acc: 0.9835\n",
      "  Testing   -> loss: 0.080 - 0.984\n"
     ]
    }
   ],
   "source": [
    "print(\"Evaluating model\")\n",
    "loss, acc = model2.evaluate(train_images, train_labels)\n",
    "print(f\"  Training  -> loss: {loss:.3f} - {acc:.3f}\")\n",
    "loss, acc = model2.evaluate(val_images, val_labels)\n",
    "print(f\"  Cross-val -> loss: {loss:.3f} - {acc:.3f}\")\n",
    "loss, acc = model2.evaluate(test_images, test_labels)\n",
    "print(f\"  Testing   -> loss: {loss:.3f} - {acc:.3f}\")"
   ]
  },
  {
   "cell_type": "code",
   "execution_count": 50,
   "id": "e2b9a540",
   "metadata": {},
   "outputs": [
    {
     "data": {
      "text/plain": [
       "(array([4, 3, 0, 5, 7, 0, 2, 2, 5, 5, 7, 4, 9, 8, 4, 1, 0, 1, 3, 3],\n",
       "       dtype=uint8),\n",
       " array([4, 3, 0, 5, 7, 0, 2, 2, 5, 5, 7, 4, 9, 8, 4, 1, 0, 1, 3, 3]))"
      ]
     },
     "execution_count": 50,
     "metadata": {},
     "output_type": "execute_result"
    }
   ],
   "source": [
    "# run predictions on test data\n",
    "test_labels_pred_proba = model2.predict(test_images)\n",
    "test_labels_pred = np.argmax(test_labels_pred_proba, axis=1)\n",
    "test_labels[:20], test_labels_pred[:20]"
   ]
  },
  {
   "cell_type": "markdown",
   "id": "e420e410",
   "metadata": {},
   "source": [
    "## Using a CNN in the Model\n",
    "In this section, we'll develop a classifier using CNN"
   ]
  },
  {
   "cell_type": "code",
   "execution_count": 47,
   "id": "5c25acf0",
   "metadata": {},
   "outputs": [],
   "source": [
    "from tensorflow.keras.models import Sequential\n",
    "from tensorflow.keras.layers import Conv2D, MaxPooling2D, Flatten, Dense, Activation, Dropout\n",
    "from tensorflow.keras.regularizers import l2"
   ]
  },
  {
   "cell_type": "code",
   "execution_count": 48,
   "id": "63ae1bac",
   "metadata": {},
   "outputs": [
    {
     "name": "stdout",
     "output_type": "stream",
     "text": [
      "train_images.shape: (60000, 28, 28) - train_labels.shape: (60000,)\n",
      "test_images.shape: (10000, 28, 28) - test_labels.shape: (10000,)\n"
     ]
    }
   ],
   "source": [
    "# load the data\n",
    "from tensorflow.keras.datasets import mnist\n",
    "\n",
    "(train_images, train_labels), (test_images, test_labels) = mnist.load_data()\n",
    "print(f\"train_images.shape: {train_images.shape} - train_labels.shape: {train_labels.shape}\\n\"\n",
    "      f\"test_images.shape: {test_images.shape} - test_labels.shape: {test_labels.shape}\")"
   ]
  },
  {
   "cell_type": "code",
   "execution_count": 49,
   "id": "40cf14bb",
   "metadata": {},
   "outputs": [
    {
     "name": "stdout",
     "output_type": "stream",
     "text": [
      "train_images.shape: (60000, 28, 28) - train_labels.shape: (60000,)\n",
      "val_images.shape: (8000, 28, 28) - val_labels.shape: (8000,)\n",
      "test_images.shape: (2000, 28, 28) - test_labels.shape: (2000,)\n"
     ]
    }
   ],
   "source": [
    "from sklearn.model_selection import train_test_split\n",
    "\n",
    "val_images, test_images, val_labels, test_labels = \\\n",
    "    train_test_split(test_images, test_labels, test_size=0.20, random_state=SEED)\n",
    "print(f\"train_images.shape: {train_images.shape} - train_labels.shape: {train_labels.shape}\\n\"\n",
    "      f\"val_images.shape: {val_images.shape} - val_labels.shape: {val_labels.shape}\\n\"\n",
    "      f\"test_images.shape: {test_images.shape} - test_labels.shape: {test_labels.shape}\")"
   ]
  },
  {
   "cell_type": "code",
   "execution_count": 50,
   "id": "f3b5f4ca",
   "metadata": {},
   "outputs": [
    {
     "name": "stdout",
     "output_type": "stream",
     "text": [
      "train_images.shape: (60000, 28, 28, 1) - train_labels.shape: (60000,)\n",
      "val_images.shape: (8000, 28, 28, 1) - val_labels.shape: (8000,)\n",
      "test_images.shape: (2000, 28, 28, 1) - test_labels.shape: (2000,)\n"
     ]
    }
   ],
   "source": [
    "# preprocess the images data\n",
    "image_size = train_images.shape[1]\n",
    "train_images = train_images.reshape([-1, image_size, image_size, 1])\n",
    "train_images = train_images.astype(\"float32\") / 255.0\n",
    "val_images = val_images.reshape([-1, image_size, image_size, 1])\n",
    "val_images = val_images.astype(\"float32\") / 255.0\n",
    "test_images = test_images.reshape([-1, image_size, image_size, 1])\n",
    "test_images = test_images.astype(\"float32\") / 255.0\n",
    "print(f\"train_images.shape: {train_images.shape} - train_labels.shape: {train_labels.shape}\\n\"\n",
    "      f\"val_images.shape: {val_images.shape} - val_labels.shape: {val_labels.shape}\\n\"\n",
    "      f\"test_images.shape: {test_images.shape} - test_labels.shape: {test_labels.shape}\")\n"
   ]
  },
  {
   "cell_type": "code",
   "execution_count": 51,
   "id": "3258f185",
   "metadata": {},
   "outputs": [],
   "source": [
    "INPUT_SHAPE = (image_size, image_size, 1)\n",
    "EPOCHS = 25\n",
    "BATCH_SIZE = 64\n",
    "KERNEL_SIZE = 3\n",
    "POOL_SIZE = 2\n",
    "FILTERS = 64\n",
    "DROPOUT = 0.2\n",
    "NUM_CLASSES = 10"
   ]
  },
  {
   "cell_type": "code",
   "execution_count": 52,
   "id": "d4d5e961",
   "metadata": {},
   "outputs": [],
   "source": [
    "L2_REG_FACTOR = 1e-5\n",
    "l2_reg = l2(L2_REG_FACTOR)\n"
   ]
  },
  {
   "cell_type": "code",
   "execution_count": 53,
   "id": "81d7b63c",
   "metadata": {},
   "outputs": [
    {
     "name": "stdout",
     "output_type": "stream",
     "text": [
      "Model: \"sequential_4\"\n",
      "_________________________________________________________________\n",
      " Layer (type)                Output Shape              Param #   \n",
      "=================================================================\n",
      " conv2d_15 (Conv2D)          (None, 26, 26, 64)        640       \n",
      "                                                                 \n",
      " max_pooling2d_15 (MaxPoolin  (None, 13, 13, 64)       0         \n",
      " g2D)                                                            \n",
      "                                                                 \n",
      " conv2d_16 (Conv2D)          (None, 11, 11, 64)        36928     \n",
      "                                                                 \n",
      " max_pooling2d_16 (MaxPoolin  (None, 5, 5, 64)         0         \n",
      " g2D)                                                            \n",
      "                                                                 \n",
      " conv2d_17 (Conv2D)          (None, 3, 3, 64)          36928     \n",
      "                                                                 \n",
      " max_pooling2d_17 (MaxPoolin  (None, 1, 1, 64)         0         \n",
      " g2D)                                                            \n",
      "                                                                 \n",
      " flatten_5 (Flatten)         (None, 64)                0         \n",
      "                                                                 \n",
      " dropout_5 (Dropout)         (None, 64)                0         \n",
      "                                                                 \n",
      " dense_4 (Dense)             (None, 10)                650       \n",
      "                                                                 \n",
      " activation_4 (Activation)   (None, 10)                0         \n",
      "                                                                 \n",
      "=================================================================\n",
      "Total params: 75,146\n",
      "Trainable params: 75,146\n",
      "Non-trainable params: 0\n",
      "_________________________________________________________________\n",
      "None\n"
     ]
    }
   ],
   "source": [
    "cnn_model = Sequential([\n",
    "    Conv2D(filters=FILTERS, kernel_size=KERNEL_SIZE, activation='relu', \n",
    "           kernel_regularizer=l2_reg, input_shape=INPUT_SHAPE),\n",
    "    MaxPooling2D(pool_size=POOL_SIZE),\n",
    "    Conv2D(filters=FILTERS, kernel_size=KERNEL_SIZE, activation='relu',\n",
    "           kernel_regularizer=l2_reg),\n",
    "    MaxPooling2D(pool_size=POOL_SIZE),\n",
    "    Conv2D(filters=FILTERS, kernel_size=KERNEL_SIZE, activation='relu',\n",
    "           kernel_regularizer=l2_reg),\n",
    "    MaxPooling2D(pool_size=POOL_SIZE),\n",
    "    Flatten(),\n",
    "    Dropout(DROPOUT),\n",
    "    Dense(NUM_CLASSES, kernel_regularizer=l2_reg),\n",
    "    Activation('softmax')\n",
    "])\n",
    "cnn_model.compile(loss='sparse_categorical_crossentropy',\n",
    "              optimizer='adam', metrics=['acc'])\n",
    "print(cnn_model.summary())"
   ]
  },
  {
   "cell_type": "code",
   "execution_count": 54,
   "id": "7cc971ef",
   "metadata": {},
   "outputs": [
    {
     "name": "stdout",
     "output_type": "stream",
     "text": [
      "Epoch 1/25\n",
      "938/938 [==============================] - 76s 79ms/step - loss: 0.2933 - acc: 0.9108 - val_loss: 0.0898 - val_acc: 0.9744\n",
      "Epoch 2/25\n",
      "938/938 [==============================] - 73s 78ms/step - loss: 0.1133 - acc: 0.9675 - val_loss: 0.0681 - val_acc: 0.9811\n",
      "Epoch 3/25\n",
      "938/938 [==============================] - 72s 77ms/step - loss: 0.0865 - acc: 0.9746 - val_loss: 0.0583 - val_acc: 0.9827\n",
      "Epoch 4/25\n",
      "938/938 [==============================] - 73s 78ms/step - loss: 0.0708 - acc: 0.9803 - val_loss: 0.0593 - val_acc: 0.9839\n",
      "Epoch 5/25\n",
      "938/938 [==============================] - 73s 77ms/step - loss: 0.0617 - acc: 0.9828 - val_loss: 0.0487 - val_acc: 0.9869\n",
      "Epoch 6/25\n",
      "938/938 [==============================] - 71s 76ms/step - loss: 0.0558 - acc: 0.9845 - val_loss: 0.0454 - val_acc: 0.9872\n",
      "Epoch 7/25\n",
      "938/938 [==============================] - 71s 76ms/step - loss: 0.0501 - acc: 0.9860 - val_loss: 0.0504 - val_acc: 0.9866\n",
      "Epoch 8/25\n",
      "938/938 [==============================] - 72s 76ms/step - loss: 0.0455 - acc: 0.9871 - val_loss: 0.0525 - val_acc: 0.9871\n",
      "Epoch 9/25\n",
      "938/938 [==============================] - 70s 74ms/step - loss: 0.0437 - acc: 0.9884 - val_loss: 0.0494 - val_acc: 0.9872\n",
      "Epoch 10/25\n",
      "938/938 [==============================] - 69s 74ms/step - loss: 0.0393 - acc: 0.9901 - val_loss: 0.0513 - val_acc: 0.9868\n",
      "Epoch 11/25\n",
      "938/938 [==============================] - 69s 73ms/step - loss: 0.0375 - acc: 0.9909 - val_loss: 0.0476 - val_acc: 0.9883\n",
      "Epoch 12/25\n",
      "938/938 [==============================] - 69s 74ms/step - loss: 0.0359 - acc: 0.9909 - val_loss: 0.0475 - val_acc: 0.9887\n",
      "Epoch 13/25\n",
      "938/938 [==============================] - 1765s 2s/step - loss: 0.0328 - acc: 0.9922 - val_loss: 0.0434 - val_acc: 0.9891\n",
      "Epoch 14/25\n",
      "938/938 [==============================] - 87s 93ms/step - loss: 0.0320 - acc: 0.9925 - val_loss: 0.0485 - val_acc: 0.9876\n",
      "Epoch 15/25\n",
      "938/938 [==============================] - 89s 95ms/step - loss: 0.0325 - acc: 0.9928 - val_loss: 0.0463 - val_acc: 0.9889\n",
      "Epoch 16/25\n",
      "938/938 [==============================] - 79s 84ms/step - loss: 0.0291 - acc: 0.9934 - val_loss: 0.0546 - val_acc: 0.9884\n",
      "Epoch 17/25\n",
      "938/938 [==============================] - 80s 86ms/step - loss: 0.0290 - acc: 0.9940 - val_loss: 0.0480 - val_acc: 0.9901\n",
      "Epoch 18/25\n",
      "938/938 [==============================] - 64s 68ms/step - loss: 0.0280 - acc: 0.9937 - val_loss: 0.0483 - val_acc: 0.9896\n",
      "Epoch 19/25\n",
      "938/938 [==============================] - 63s 67ms/step - loss: 0.0273 - acc: 0.9945 - val_loss: 0.0477 - val_acc: 0.9899\n",
      "Epoch 20/25\n",
      "938/938 [==============================] - 62s 67ms/step - loss: 0.0263 - acc: 0.9948 - val_loss: 0.0497 - val_acc: 0.9899\n",
      "Epoch 21/25\n",
      "938/938 [==============================] - 74s 79ms/step - loss: 0.0274 - acc: 0.9943 - val_loss: 0.0504 - val_acc: 0.9900\n",
      "Epoch 22/25\n",
      "938/938 [==============================] - 72s 77ms/step - loss: 0.0261 - acc: 0.9949 - val_loss: 0.0511 - val_acc: 0.9898\n",
      "Epoch 23/25\n",
      "938/938 [==============================] - 65s 70ms/step - loss: 0.0263 - acc: 0.9951 - val_loss: 0.0532 - val_acc: 0.9901\n",
      "Epoch 24/25\n",
      "938/938 [==============================] - 61s 65ms/step - loss: 0.0244 - acc: 0.9952 - val_loss: 0.0490 - val_acc: 0.9908\n",
      "Epoch 25/25\n",
      "938/938 [==============================] - 61s 65ms/step - loss: 0.0238 - acc: 0.9958 - val_loss: 0.0559 - val_acc: 0.9891\n"
     ]
    }
   ],
   "source": [
    "hist = cnn_model.fit(train_images, train_labels, validation_data=(val_images, val_labels), \n",
    "    epochs=EPOCHS, batch_size=BATCH_SIZE)"
   ]
  },
  {
   "cell_type": "code",
   "execution_count": 55,
   "id": "e4ffbedc",
   "metadata": {},
   "outputs": [
    {
     "data": {
      "image/png": "[encoded data removed]",
      "text/plain": [
       "<Figure size 1152x360 with 2 Axes>"
      ]
     },
     "metadata": {},
     "output_type": "display_data"
    }
   ],
   "source": [
    "import kr_helper_funcs as kru\n",
    "\n",
    "kru.show_plots(hist.history, metric=\"acc\", plot_title=\"Keras Model with L2 Reg Performance\")"
   ]
  },
  {
   "cell_type": "code",
   "execution_count": 56,
   "id": "121315e1",
   "metadata": {},
   "outputs": [
    {
     "name": "stdout",
     "output_type": "stream",
     "text": [
      "Evaluating model\n",
      "1875/1875 [==============================] - 20s 10ms/step - loss: 0.0151 - acc: 0.9989\n",
      "  Training  -> loss: 0.015 - 0.999\n",
      "250/250 [==============================] - 3s 10ms/step - loss: 0.0559 - acc: 0.9891\n",
      "  Cross-val -> loss: 0.056 - 0.989\n",
      "63/63 [==============================] - 1s 10ms/step - loss: 0.0622 - acc: 0.9880\n",
      "  Testing   -> loss: 0.062 - 0.988\n"
     ]
    }
   ],
   "source": [
    "print(\"Evaluating model\")\n",
    "loss, acc = cnn_model.evaluate(train_images, train_labels)\n",
    "print(f\"  Training  -> loss: {loss:.3f} - {acc:.3f}\")\n",
    "loss, acc = cnn_model.evaluate(val_images, val_labels)\n",
    "print(f\"  Cross-val -> loss: {loss:.3f} - {acc:.3f}\")\n",
    "loss, acc = cnn_model.evaluate(test_images, test_labels)\n",
    "print(f\"  Testing   -> loss: {loss:.3f} - {acc:.3f}\")"
   ]
  },
  {
   "cell_type": "code",
   "execution_count": 57,
   "id": "8f1b6d9a",
   "metadata": {},
   "outputs": [
    {
     "data": {
      "text/plain": [
       "(array([4, 3, 0, 5, 7, 0, 2, 2, 5, 5, 7, 4, 9, 8, 4, 1, 0, 1, 3, 3],\n",
       "       dtype=uint8),\n",
       " array([4, 3, 0, 5, 7, 0, 2, 2, 5, 5, 7, 4, 9, 8, 4, 1, 0, 1, 3, 3]))"
      ]
     },
     "execution_count": 57,
     "metadata": {},
     "output_type": "execute_result"
    }
   ],
   "source": [
    "# run predictions on test data\n",
    "test_labels_pred_proba = cnn_model.predict(test_images)\n",
    "test_labels_pred = np.argmax(test_labels_pred_proba, axis=1)\n",
    "test_labels[:20], test_labels_pred[:20]"
   ]
  },
  {
   "cell_type": "code",
   "execution_count": null,
   "id": "8aefe6d6",
   "metadata": {},
   "outputs": [],
   "source": []
  }
 ],
 "metadata": {
  "kernelspec": {
   "display_name": "Python 3 (ipykernel)",
   "language": "python",
   "name": "python3"
  },
  "language_info": {
   "codemirror_mode": {
    "name": "ipython",
    "version": 3
   },
   "file_extension": ".py",
   "mimetype": "text/x-python",
   "name": "python",
   "nbconvert_exporter": "python",
   "pygments_lexer": "ipython3",
   "version": "3.9.11"
  }
 },
 "nbformat": 4,
 "nbformat_minor": 5
}
